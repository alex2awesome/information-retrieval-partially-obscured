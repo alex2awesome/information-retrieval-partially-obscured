{
 "cells": [
  {
   "cell_type": "code",
   "execution_count": 2,
   "id": "4bbad0f4-3798-4874-b034-cceeba37d831",
   "metadata": {},
   "outputs": [],
   "source": [
    "from datasets import load_from_disk\n",
    "import pandas as pd "
   ]
  },
  {
   "cell_type": "code",
   "execution_count": null,
   "id": "9dfaf248-e679-46ff-b2a6-441622efb436",
   "metadata": {},
   "outputs": [],
   "source": [
    "! mkdir ../data \n",
    "! wget https://storage.googleapis.com/usc-data/all-coref-resolved.tar.gz\n",
    "! wget https://storage.googleapis.com/usc-data/full-source-scored-data.jsonl.gz\n",
    "! mv all-coref-resolved.tar.gz ../data\n",
    "! mv full-source-scored-data.jsonl.gz ../data\n",
    "! tar -xvzf ../data/all-coref-resolved.tar.gz"
   ]
  },
  {
   "cell_type": "code",
   "execution_count": 16,
   "id": "e510c3a4-e928-48d4-87ed-d4cbe65b447b",
   "metadata": {},
   "outputs": [],
   "source": [
    "import pandas as pd\n",
    "import numpy as np \n",
    "from tqdm.auto import tqdm\n",
    "data_dir = '../data'\n",
    "data_dir = '../../../bloomberg-research/press-releases/data/s_p_500_backlinks'\n",
    "source_df = pd.read_json(f'{data_dir}/full-source-scored-data.jsonl.gz', lines=True, compression='gzip', nrows=100)"
   ]
  },
  {
   "cell_type": "code",
   "execution_count": 6,
   "id": "fc3e54b8-decc-4b5b-8fbb-3e4c68a17f65",
   "metadata": {},
   "outputs": [
    {
     "data": {
      "application/vnd.jupyter.widget-view+json": {
       "model_id": "bdb02813164a494c8c834dc99df79970",
       "version_major": 2,
       "version_minor": 0
      },
      "text/plain": [
       "Loading dataset from disk:   0%|          | 0/41 [00:00<?, ?it/s]"
      ]
     },
     "metadata": {},
     "output_type": "display_data"
    }
   ],
   "source": [
    "article_d = load_from_disk(f'{data_dir}/all-coref-resolved')"
   ]
  },
  {
   "cell_type": "code",
   "execution_count": 9,
   "id": "dd26d02b-0929-499a-a454-98448a1c47cb",
   "metadata": {},
   "outputs": [
    {
     "data": {
      "application/vnd.jupyter.widget-view+json": {
       "model_id": "0ddde504ef1a4145b23f32a19935addd",
       "version_major": 2,
       "version_minor": 0
      },
      "text/plain": [
       "Filter (num_proc=10):   0%|          | 0/496380 [00:00<?, ? examples/s]"
      ]
     },
     "metadata": {},
     "output_type": "display_data"
    }
   ],
   "source": [
    "filtered_article_d = article_d.filter(lambda x: x['article_url'] in set(source_df['article_url']), num_proc=10)"
   ]
  },
  {
   "cell_type": "code",
   "execution_count": 49,
   "id": "60e22d78-0699-4e0a-ab80-e2ff1562154e",
   "metadata": {
    "scrolled": true
   },
   "outputs": [],
   "source": [
    "disallowed_quote_types = set(['Other', 'Background/Narrative', 'No Quote'])\n",
    "\n",
    "sentences_with_quotes = (\n",
    "    filtered_article_d\n",
    "         .to_pandas()\n",
    "         .merge(source_df, on='article_url')\n",
    "         [['article_url', 'attributions', 'quote_type', 'sent_lists',]]\n",
    "         .explode(['attributions', 'quote_type', 'sent_lists'])\n",
    ")\n",
    "\n",
    "sentences_with_quotes = (sentences_with_quotes\n",
    "     .assign(attributions=lambda df: \n",
    "             df.apply(lambda x: x['attributions'] if x['quote_type'] not in disallowed_quote_types else np.nan, axis=1)\n",
    "    )\n",
    ")"
   ]
  },
  {
   "cell_type": "code",
   "execution_count": 94,
   "id": "0309f108-fc3d-42b3-9595-413acef767bf",
   "metadata": {},
   "outputs": [],
   "source": [
    "one_article = (\n",
    "    sentences_with_quotes\n",
    "         .loc[lambda df: df['article_url'] == df['article_url'].unique()[1]]\n",
    "        .reset_index(drop=True)\n",
    ")"
   ]
  },
  {
   "cell_type": "code",
   "execution_count": 95,
   "id": "2759b7c7-459e-4780-9047-bf1eaf02c511",
   "metadata": {},
   "outputs": [],
   "source": [
    "doc_str = one_article[['sent_lists', 'attributions']].to_csv(sep='\\t', index=False)\n",
    "json_str = one_article[['sent_lists', 'attributions']].to_json(lines=True, orient='records')"
   ]
  },
  {
   "cell_type": "markdown",
   "id": "3e7462f6-678e-4cab-89f6-dde039a4e314",
   "metadata": {},
   "source": [
    "Run this in your terminal:\n",
    "\n",
    "`ollama run llama3`"
   ]
  },
  {
   "cell_type": "code",
   "execution_count": 77,
   "id": "a5141b2f-3912-418c-800e-f7ed290a450a",
   "metadata": {},
   "outputs": [],
   "source": [
    "import requests\n",
    "import pyperclip"
   ]
  },
  {
   "cell_type": "code",
   "execution_count": null,
   "id": "4daa3d76-9fc8-4483-b542-c8844b2a33b9",
   "metadata": {},
   "outputs": [],
   "source": [
    "pyperclip.copy(doc_str)\n",
    "pyperclip.copy(json_str)"
   ]
  },
  {
   "cell_type": "code",
   "execution_count": 105,
   "id": "53c3a43e-c0a0-4e25-a048-2459cf4dbd31",
   "metadata": {},
   "outputs": [],
   "source": [
    "r = requests.post(\n",
    "    'http://localhost:11434/api/generate', \n",
    "    json = {\n",
    "        \"model\": \"llama3\",\n",
    "        \"prompt\":f\"\"\"\n",
    "            Here is a news article, with each sentence annotated according to the source of it's information:\n",
    "            ```\n",
    "            {json_str}\n",
    "            ```\n",
    "\n",
    "            Please summarize each of our source annotations. Tell me in one paragraph per source: (1) who the source is (2) what informational content they provide to the article. \n",
    "            Only rely on the annotations I have provided, don't identify additional sources.\n",
    "        \"\"\",\n",
    "        \"stream\": False\n",
    "})"
   ]
  },
  {
   "cell_type": "code",
   "execution_count": 106,
   "id": "badef086-20f0-4aa9-9769-7c852ff9b7ea",
   "metadata": {},
   "outputs": [
    {
     "name": "stdout",
     "output_type": "stream",
     "text": [
      "**Socrata Foundation**: The Socrata Foundation is a 501(c)(3) organization that provides information about its philanthropic philosophy and mission. They describe their support for unique organizations that lack resources or financial means to fulfill their data-driven missions. They also mention the importance of open data in removing barriers to social justice and economic progress.\n",
      "\n",
      "**Robert Runge**: Robert Runge, a member of Socrata's Board of Directors, provides additional context about the Socrata Foundation's purpose and how it bridges the gap between publicly funded open data projects and underfunded or unfunded opportunities.\n",
      "\n",
      "**Mike Duggan**: Detroit Mayor Mike Duggan shares his perspective on why he turned to data-driven government in Detroit. He highlights the importance of transparency, accountability, and fact-based decision-making enabled by open data. He also explains how the Socrata Foundation helped Detroit gain access to the necessary technology and infrastructure.\n",
      "\n",
      "**Heat Seek NYC Founder William Jeffries**: Heat Seek NYC's founder, William Jeffries, provides insight into the organization's mission and goals. He emphasizes the importance of gathering data to protect tenants from unsafe living conditions and shares his vision for using this data to hold accountable those responsible for heating violations in New York City.\n",
      "\n",
      "Note: There are no other sources annotated besides these four (Socrata Foundation, Robert Runge, Mike Duggan, and William Jeffries).\n"
     ]
    }
   ],
   "source": [
    "print(r.json()['response'])"
   ]
  },
  {
   "cell_type": "code",
   "execution_count": null,
   "id": "d4663f71-4708-435f-a1bf-3cdff4b994b7",
   "metadata": {},
   "outputs": [],
   "source": []
  },
  {
   "cell_type": "code",
   "execution_count": null,
   "id": "c8141d3c-db08-4205-9e22-48b08db25e07",
   "metadata": {},
   "outputs": [],
   "source": []
  },
  {
   "cell_type": "code",
   "execution_count": null,
   "id": "918831a4-f609-4f7d-a36e-8abab527cfef",
   "metadata": {},
   "outputs": [],
   "source": []
  },
  {
   "cell_type": "code",
   "execution_count": null,
   "id": "d42e1ddc-20cb-4b43-b573-231f813b9c5e",
   "metadata": {},
   "outputs": [],
   "source": []
  },
  {
   "cell_type": "code",
   "execution_count": null,
   "id": "d7f20973-c1a7-422c-924d-4855b9fe8d63",
   "metadata": {},
   "outputs": [],
   "source": []
  },
  {
   "cell_type": "code",
   "execution_count": null,
   "id": "0c2abe74-47ae-49ca-a08c-c792ba120863",
   "metadata": {},
   "outputs": [],
   "source": []
  },
  {
   "cell_type": "code",
   "execution_count": null,
   "id": "ab063171-471b-49a6-a61b-ec5d0e4ba98a",
   "metadata": {},
   "outputs": [],
   "source": []
  },
  {
   "cell_type": "code",
   "execution_count": null,
   "id": "47adba74-fe9f-4435-9047-8798fc97593c",
   "metadata": {},
   "outputs": [],
   "source": []
  }
 ],
 "metadata": {
  "kernelspec": {
   "display_name": "Python 3 (ipykernel)",
   "language": "python",
   "name": "python3"
  },
  "language_info": {
   "codemirror_mode": {
    "name": "ipython",
    "version": 3
   },
   "file_extension": ".py",
   "mimetype": "text/x-python",
   "name": "python",
   "nbconvert_exporter": "python",
   "pygments_lexer": "ipython3",
   "version": "3.12.2"
  }
 },
 "nbformat": 4,
 "nbformat_minor": 5
}
